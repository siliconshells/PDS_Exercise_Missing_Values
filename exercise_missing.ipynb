{
 "cells": [
  {
   "cell_type": "markdown",
   "metadata": {},
   "source": [
    "# Missing Values Exercises\n"
   ]
  },
  {
   "cell_type": "markdown",
   "metadata": {},
   "source": [
    "## Gradescope Autograding\n",
    "\n",
    "Please follow [all standard guidance](https://www.practicaldatascience.org/ids720_specific/autograder_guidelines.html) for submitting this assignment to the Gradescope autograder, including storing your solutions in a dictionary called `results` and ensuring your notebook runs from the start to completion without any errors.\n",
    "\n",
    "For this assignment, please name your file `exercise_missing.ipynb` before uploading.\n",
    "\n",
    "You can check that you have answers for all questions in your `results` dictionary with this code:\n",
    "\n",
    "\n",
    "```python\n",
    "assert set(results.keys()) == {\n",
    "    \"ex2_avg_income\",\n",
    "    \"ex3_share_making_9999999\",\n",
    "    \"ex3_share_making_zero\",\n",
    "    \"ex5_avg_income\",\n",
    "    \"ex8_avg_income_black\",\n",
    "    \"ex8_avg_income_white\",\n",
    "    \"ex8_racial_difference\",\n",
    "    \"ex9_avg_income_black\",\n",
    "    \"ex9_avg_income_white\",\n",
    "    \"ex10_wage_gap\",\n",
    "}\n",
    "```\n",
    "\n",
    "### Submission Limits\n",
    "\n",
    "Please remember that you are **only allowed three submissions to the autograder.** Your last submission (if you submit 3 or fewer times), or your third submission (if you submit more than 3 times) will determine your grade Submissions that error out will **not** count against this total.\n"
   ]
  },
  {
   "cell_type": "code",
   "execution_count": 1,
   "metadata": {},
   "outputs": [],
   "source": [
    "import pandas as pd\n",
    "\n",
    "pd.set_option(\"mode.copy_on_write\", True)\n",
    "\n",
    "results = {}"
   ]
  },
  {
   "cell_type": "markdown",
   "metadata": {},
   "source": [
    "## Exercises"
   ]
  },
  {
   "cell_type": "markdown",
   "metadata": {},
   "source": [
    "### Exercise 1\n",
    "\n",
    "Today, we will be using the ACS data we used during out first `pandas` exercise to examine the US income distribution, and how it varies by race. Note that because the US income distribution has a very small number of people with *extremely* high incomes, and the ACS is just a sample of Americans, the far right tail of the distribution will not be very well estimated. However, this data should suffice for helping to understand wealth inequality in the United States. \n",
    "\n",
    "To begin, load the ACS Data we used in our first pandas exercise. That [data can be found here](https://github.com/nickeubank/MIDS_Data/tree/master/US_AmericanCommunitySurvey). We'll be working with `US_ACS_2017_10pct_sample.dta`. "
   ]
  },
  {
   "cell_type": "code",
   "execution_count": 37,
   "metadata": {},
   "outputs": [],
   "source": [
    "acs = pd.read_stata(\n",
    "    \"https://github.com/nickeubank/MIDS_Data/raw/refs/heads/master/US_AmericanCommunitySurvey/US_ACS_2017_10pct_sample.dta\"\n",
    ")"
   ]
  },
  {
   "cell_type": "markdown",
   "metadata": {},
   "source": [
    "### Exercise 2\n",
    "\n",
    "Let's begin by calculating the mean US incomes from this data (recall that income is stored in the `inctot` variable). Store the answer in `results` under the key `\"ex2_avg_income\"`."
   ]
  },
  {
   "cell_type": "code",
   "execution_count": 3,
   "metadata": {},
   "outputs": [
    {
     "name": "stdout",
     "output_type": "stream",
     "text": [
      "The mean US income from this data is $1,723,646.27\n"
     ]
    }
   ],
   "source": [
    "ex2_avg_income = acs[\"inctot\"].mean()\n",
    "results[\"ex2_avg_income\"] = ex2_avg_income\n",
    "print(f\"The mean US income from this data is ${ex2_avg_income:,.2f}\")"
   ]
  },
  {
   "cell_type": "markdown",
   "metadata": {},
   "source": [
    "### Exercise 3\n",
    "\n",
    "Hmmm... That doesn't look right. The average American is definitely not earning that much a year! Let's look at the values of `inctot` using `value_counts()`. Do you see a problem?\n",
    "\n",
    "Now use `value_counts()` with the argument `normalize=True` to see proportions of the sample that report each value instead of the count of people in each category. What percentage of our sample has an income of 9,999,999? Store that proportion (between 0 and 1) as `\"x3_sharee_making_9999999\"`. What percentage has an income of 0? Store that proportion as `\"ex3_share_making_zero\"`.\n",
    "\n",
    "(Recall `.value_counts()` returns a Series, so you can pull values out with our usual pandas tools.)"
   ]
  },
  {
   "cell_type": "code",
   "execution_count": 4,
   "metadata": {},
   "outputs": [
    {
     "name": "stdout",
     "output_type": "stream",
     "text": [
      "The percentage of the sample that has an income of 9,999,999 is 0.17%\n",
      "The percentage of the sample that has an income of 0 is 0.11%\n"
     ]
    }
   ],
   "source": [
    "inc_count = acs[\"inctot\"].value_counts(normalize=True)\n",
    "results[\"ex3_share_making_9999999\"] = ex3_share_making_9999999 = inc_count.loc[9999999]\n",
    "results[\"ex3_share_making_zero\"] = ex3_share_making_zero = inc_count.loc[0]\n",
    "print(\n",
    "    f\"The percentage of the sample that has an income of 9,999,999 is {ex3_share_making_9999999:.2f}%\"\n",
    ")\n",
    "print(\n",
    "    f\"The percentage of the sample that has an income of 0 is {ex3_share_making_zero:.2f}%\"\n",
    ")"
   ]
  },
  {
   "cell_type": "markdown",
   "metadata": {},
   "source": [
    "### Exercise 4\n",
    "\n",
    "As we discussed before, the ACS uses a value of 9999999 to denote that income information is not available for someone. The problem with using this kind of \"sentinel value\" is that pandas doesn't understand that this is supposed to denote missing data, and so when it averages the variable, it doesn't know to ignore 9999999. \n",
    "\n",
    "To help out `pandas`, use the `replace` command to replace all values of 9999999 with `np.nan`. "
   ]
  },
  {
   "cell_type": "code",
   "execution_count": 48,
   "metadata": {},
   "outputs": [
    {
     "data": {
      "text/html": [
       "<div>\n",
       "<style scoped>\n",
       "    .dataframe tbody tr th:only-of-type {\n",
       "        vertical-align: middle;\n",
       "    }\n",
       "\n",
       "    .dataframe tbody tr th {\n",
       "        vertical-align: top;\n",
       "    }\n",
       "\n",
       "    .dataframe thead th {\n",
       "        text-align: right;\n",
       "    }\n",
       "</style>\n",
       "<table border=\"1\" class=\"dataframe\">\n",
       "  <thead>\n",
       "    <tr style=\"text-align: right;\">\n",
       "      <th></th>\n",
       "      <th>age</th>\n",
       "      <th>inctot</th>\n",
       "      <th>race</th>\n",
       "      <th>hispan</th>\n",
       "      <th>perwt</th>\n",
       "      <th>empstat</th>\n",
       "    </tr>\n",
       "  </thead>\n",
       "  <tbody>\n",
       "    <tr>\n",
       "      <th>27230</th>\n",
       "      <td>12</td>\n",
       "      <td>NaN</td>\n",
       "      <td>black/african american/negro</td>\n",
       "      <td>not hispanic</td>\n",
       "      <td>235</td>\n",
       "      <td>n/a</td>\n",
       "    </tr>\n",
       "    <tr>\n",
       "      <th>286667</th>\n",
       "      <td>38</td>\n",
       "      <td>32000.0</td>\n",
       "      <td>white</td>\n",
       "      <td>not hispanic</td>\n",
       "      <td>91</td>\n",
       "      <td>employed</td>\n",
       "    </tr>\n",
       "    <tr>\n",
       "      <th>292118</th>\n",
       "      <td>59</td>\n",
       "      <td>338500.0</td>\n",
       "      <td>white</td>\n",
       "      <td>not hispanic</td>\n",
       "      <td>40</td>\n",
       "      <td>employed</td>\n",
       "    </tr>\n",
       "    <tr>\n",
       "      <th>185091</th>\n",
       "      <td>47</td>\n",
       "      <td>122000.0</td>\n",
       "      <td>white</td>\n",
       "      <td>not hispanic</td>\n",
       "      <td>262</td>\n",
       "      <td>employed</td>\n",
       "    </tr>\n",
       "    <tr>\n",
       "      <th>66080</th>\n",
       "      <td>14</td>\n",
       "      <td>NaN</td>\n",
       "      <td>chinese</td>\n",
       "      <td>not hispanic</td>\n",
       "      <td>56</td>\n",
       "      <td>n/a</td>\n",
       "    </tr>\n",
       "    <tr>\n",
       "      <th>302410</th>\n",
       "      <td>15</td>\n",
       "      <td>0.0</td>\n",
       "      <td>white</td>\n",
       "      <td>not hispanic</td>\n",
       "      <td>69</td>\n",
       "      <td>n/a</td>\n",
       "    </tr>\n",
       "    <tr>\n",
       "      <th>149368</th>\n",
       "      <td>39</td>\n",
       "      <td>65000.0</td>\n",
       "      <td>white</td>\n",
       "      <td>not hispanic</td>\n",
       "      <td>158</td>\n",
       "      <td>employed</td>\n",
       "    </tr>\n",
       "    <tr>\n",
       "      <th>415</th>\n",
       "      <td>66</td>\n",
       "      <td>25100.0</td>\n",
       "      <td>white</td>\n",
       "      <td>not hispanic</td>\n",
       "      <td>121</td>\n",
       "      <td>employed</td>\n",
       "    </tr>\n",
       "    <tr>\n",
       "      <th>165047</th>\n",
       "      <td>41</td>\n",
       "      <td>54000.0</td>\n",
       "      <td>white</td>\n",
       "      <td>not hispanic</td>\n",
       "      <td>164</td>\n",
       "      <td>employed</td>\n",
       "    </tr>\n",
       "    <tr>\n",
       "      <th>231917</th>\n",
       "      <td>39</td>\n",
       "      <td>40000.0</td>\n",
       "      <td>white</td>\n",
       "      <td>not hispanic</td>\n",
       "      <td>21</td>\n",
       "      <td>employed</td>\n",
       "    </tr>\n",
       "    <tr>\n",
       "      <th>118137</th>\n",
       "      <td>19</td>\n",
       "      <td>4100.0</td>\n",
       "      <td>white</td>\n",
       "      <td>not hispanic</td>\n",
       "      <td>116</td>\n",
       "      <td>employed</td>\n",
       "    </tr>\n",
       "    <tr>\n",
       "      <th>256742</th>\n",
       "      <td>70</td>\n",
       "      <td>11800.0</td>\n",
       "      <td>white</td>\n",
       "      <td>not hispanic</td>\n",
       "      <td>97</td>\n",
       "      <td>not in labor force</td>\n",
       "    </tr>\n",
       "    <tr>\n",
       "      <th>266442</th>\n",
       "      <td>61</td>\n",
       "      <td>8800.0</td>\n",
       "      <td>black/african american/negro</td>\n",
       "      <td>not hispanic</td>\n",
       "      <td>164</td>\n",
       "      <td>not in labor force</td>\n",
       "    </tr>\n",
       "    <tr>\n",
       "      <th>313601</th>\n",
       "      <td>57</td>\n",
       "      <td>90000.0</td>\n",
       "      <td>white</td>\n",
       "      <td>not hispanic</td>\n",
       "      <td>81</td>\n",
       "      <td>employed</td>\n",
       "    </tr>\n",
       "    <tr>\n",
       "      <th>69690</th>\n",
       "      <td>3</td>\n",
       "      <td>NaN</td>\n",
       "      <td>white</td>\n",
       "      <td>not hispanic</td>\n",
       "      <td>136</td>\n",
       "      <td>n/a</td>\n",
       "    </tr>\n",
       "    <tr>\n",
       "      <th>285656</th>\n",
       "      <td>92</td>\n",
       "      <td>16800.0</td>\n",
       "      <td>white</td>\n",
       "      <td>not hispanic</td>\n",
       "      <td>61</td>\n",
       "      <td>not in labor force</td>\n",
       "    </tr>\n",
       "    <tr>\n",
       "      <th>271342</th>\n",
       "      <td>17</td>\n",
       "      <td>0.0</td>\n",
       "      <td>black/african american/negro</td>\n",
       "      <td>not hispanic</td>\n",
       "      <td>102</td>\n",
       "      <td>not in labor force</td>\n",
       "    </tr>\n",
       "    <tr>\n",
       "      <th>59701</th>\n",
       "      <td>21</td>\n",
       "      <td>13000.0</td>\n",
       "      <td>two major races</td>\n",
       "      <td>not hispanic</td>\n",
       "      <td>7</td>\n",
       "      <td>employed</td>\n",
       "    </tr>\n",
       "    <tr>\n",
       "      <th>153237</th>\n",
       "      <td>68</td>\n",
       "      <td>10800.0</td>\n",
       "      <td>white</td>\n",
       "      <td>not hispanic</td>\n",
       "      <td>113</td>\n",
       "      <td>not in labor force</td>\n",
       "    </tr>\n",
       "    <tr>\n",
       "      <th>154262</th>\n",
       "      <td>59</td>\n",
       "      <td>50000.0</td>\n",
       "      <td>black/african american/negro</td>\n",
       "      <td>not hispanic</td>\n",
       "      <td>82</td>\n",
       "      <td>not in labor force</td>\n",
       "    </tr>\n",
       "  </tbody>\n",
       "</table>\n",
       "</div>"
      ],
      "text/plain": [
       "       age    inctot                          race        hispan  perwt  \\\n",
       "27230   12       NaN  black/african american/negro  not hispanic    235   \n",
       "286667  38   32000.0                         white  not hispanic     91   \n",
       "292118  59  338500.0                         white  not hispanic     40   \n",
       "185091  47  122000.0                         white  not hispanic    262   \n",
       "66080   14       NaN                       chinese  not hispanic     56   \n",
       "302410  15       0.0                         white  not hispanic     69   \n",
       "149368  39   65000.0                         white  not hispanic    158   \n",
       "415     66   25100.0                         white  not hispanic    121   \n",
       "165047  41   54000.0                         white  not hispanic    164   \n",
       "231917  39   40000.0                         white  not hispanic     21   \n",
       "118137  19    4100.0                         white  not hispanic    116   \n",
       "256742  70   11800.0                         white  not hispanic     97   \n",
       "266442  61    8800.0  black/african american/negro  not hispanic    164   \n",
       "313601  57   90000.0                         white  not hispanic     81   \n",
       "69690    3       NaN                         white  not hispanic    136   \n",
       "285656  92   16800.0                         white  not hispanic     61   \n",
       "271342  17       0.0  black/african american/negro  not hispanic    102   \n",
       "59701   21   13000.0               two major races  not hispanic      7   \n",
       "153237  68   10800.0                         white  not hispanic    113   \n",
       "154262  59   50000.0  black/african american/negro  not hispanic     82   \n",
       "\n",
       "                   empstat  \n",
       "27230                  n/a  \n",
       "286667            employed  \n",
       "292118            employed  \n",
       "185091            employed  \n",
       "66080                  n/a  \n",
       "302410                 n/a  \n",
       "149368            employed  \n",
       "415               employed  \n",
       "165047            employed  \n",
       "231917            employed  \n",
       "118137            employed  \n",
       "256742  not in labor force  \n",
       "266442  not in labor force  \n",
       "313601            employed  \n",
       "69690                  n/a  \n",
       "285656  not in labor force  \n",
       "271342  not in labor force  \n",
       "59701             employed  \n",
       "153237  not in labor force  \n",
       "154262  not in labor force  "
      ]
     },
     "execution_count": 48,
     "metadata": {},
     "output_type": "execute_result"
    }
   ],
   "source": [
    "import numpy as np\n",
    "\n",
    "acs = acs.replace(9999999, np.nan)\n",
    "\n",
    "acs = acs[[\"age\", \"inctot\", \"race\", \"hispan\", \"perwt\", \"empstat\"]]\n",
    "\n",
    "acs.sample(20)"
   ]
  },
  {
   "cell_type": "markdown",
   "metadata": {},
   "source": [
    "### Exercise 5\n",
    "\n",
    "Now that we've properly labeled our missing data as `np.nan`, let's calculate the average US income once more. Store the answer in `results` under the key `\"ex5_avg_income\"`."
   ]
  },
  {
   "cell_type": "code",
   "execution_count": 6,
   "metadata": {},
   "outputs": [
    {
     "name": "stdout",
     "output_type": "stream",
     "text": [
      "The average US income with this data is now $40,890.18\n"
     ]
    }
   ],
   "source": [
    "results[\"ex5_avg_income\"] = ex5_avg_income = acs[\"inctot\"].mean()\n",
    "print(f\"The average US income with this data is now ${ex5_avg_income:,.2f}\")"
   ]
  },
  {
   "cell_type": "markdown",
   "metadata": {},
   "source": [
    "### Exercise 6\n",
    "\n",
    "OK, now we've been able to get a reasonable average income number. As we can see, a major advantage of using `np.nan` is that `pandas` knows that `np.nan` observations should just be ignored when we are calculating means. \n",
    "\n",
    "But it's not enough to just get rid of the people who had `inctot` values of 9999999. We also need to know why those values were missing. Suppose, for example, that the value of 9999999 was used for anyone who made more than 100,000 dollars: if we just dropped those people, then our estimate of average income wouldn't mean much, would it?\n",
    "\n",
    "So let's make sure we understand *why* data is missing for some people. If you recall from our last exercise, it seemed to be the case that most of the people who had incomes of 9999999 were children. Let's make sure that's true by looking at the distribution of the variable `age` for people for whom `inctot` is missing (i.e. subset the data to people with `inctot` missing, then look at the values of `age` with `value_counts()`).\n",
    "\n",
    "Then do the opposite: look at the distribution of the `age` variable for people who whom `inctot` is *not* missing. \n",
    "\n",
    "Can you determine when 9999999 was being used? Is it ok we're excluding those people from our analysis?\n",
    "\n",
    "Note: In this data, Python doesn't understand `age` is a number; it thinks it is a string because the original data has categories like \"90 (90+ in 1980 and 1990)\" and \"less than 1 year old\". So you can't just use `min()` or `max()`. We'll discuss converting string variables into numbers in a future class."
   ]
  },
  {
   "cell_type": "code",
   "execution_count": 52,
   "metadata": {},
   "outputs": [
    {
     "data": {
      "text/plain": [
       "np.int64(14)"
      ]
     },
     "execution_count": 52,
     "metadata": {},
     "output_type": "execute_result"
    }
   ],
   "source": [
    "acs[pd.isna(acs[\"inctot\"])][\"age\"].value_counts()\n",
    "acs[acs[\"inctot\"].notna()][\"age\"].value_counts()\n",
    "\n",
    "# when isnumeric is used, the strings appear again during column dtype conversiont\n",
    "acs_age_test = acs.loc[acs[\"age\"].str.isnumeric()].copy()\n",
    "acs_age_test[\"age\"] = acs_age_test[\"age\"].cat.rename_categories(\n",
    "    {\"90 (90+ in 1980 and 1990)\": 90, \"less than 1 year old\": 0}\n",
    ")\n",
    "acs_age_test[\"age\"] = acs_age_test[\"age\"].astype(int)\n",
    "acs_age_test.loc[np.isnan(acs_age_test[\"inctot\"])]\n",
    "acs_age_test.loc[acs_age_test[\"inctot\"].isna(), \"age\"].max()"
   ]
  },
  {
   "cell_type": "markdown",
   "metadata": {},
   "source": [
    ">9999999 is being used for children under the age of 15. It is okay that we're excluding these people from our analysis because children usually have no income / are not usually employed. "
   ]
  },
  {
   "cell_type": "markdown",
   "metadata": {},
   "source": [
    "### Exercise 7\n",
    "\n",
    "Great, so now we know why those people had missing data, and we're ok with excluding them. \n",
    "\n",
    "But as we previously noted, there are also a lot of observations of zero income in our data, and it's not clear that we want everyone with a zero-income *should* be included in this average, since those may be people who are retired, or in school. \n",
    "\n",
    "Let's limit our attention to people who are currently working by subsetting to only employed respondents. We can do this using `empstat`. Remember you can use `value_counts()` to see what values of `empstat` are in the data!"
   ]
  },
  {
   "cell_type": "code",
   "execution_count": 8,
   "metadata": {},
   "outputs": [],
   "source": [
    "acs[\"empstat\"].value_counts()\n",
    "acs = acs[acs[\"empstat\"] == \"employed\"]"
   ]
  },
  {
   "cell_type": "markdown",
   "metadata": {},
   "source": [
    "### Exercise 8\n",
    "\n",
    "Now let's estimate the racial income gap in the United States. What is the average salary for employed Black Americans, and what is the average salary for employed White Americans? In percentage terms, how much more does the average White American make than the average Black American?\n",
    "\n",
    "**Note:** these values are not quite accurate estimates. As we'll discuss in later lessons, to get completely accurate estimates from the ACS we have to take into account how people were selected to be interviewed. But you get pretty good estimates in most cases even without weights—your estimate of the racial wage gap without weights is within 5\\% of the corrected value. \n",
    "\n",
    "**Note:** This is actually an underestimate of the wage gap. The US Census treats Hispanic respondents as a sub-category of \"White.\" While all ethnic distinctions are socially constructed, and so on some level these distinctions are all deeply problematic, this coding is inconsistent with what most Americans think of when they hear the term \"White,\" a term *most* Americans think of as a category that is mutually exclusive of being Hispanic or Latino (categories which are also usually conflated in American popular discussion). With that in mind, most researchers working with US Census data split \"White\" into \"White, Hispanic\" and \"White, Non-Hispanic\" using `race` *and* `hispan`. But for the moment, just identify \"White\" respondents using the value in `race`.\n",
    "\n",
    "Store your results in `results` under the keys `\"ex8_avg_income_black\"`, `\"ex8_avg_income_white\"`, and the percentage difference as `ex8_racial_difference`. Please note the wording above when calculating the percentage difference to ensure you get the reference category correct, and interpret your result as well."
   ]
  },
  {
   "cell_type": "code",
   "execution_count": 14,
   "metadata": {},
   "outputs": [
    {
     "name": "stdout",
     "output_type": "stream",
     "text": [
      "{'ex2_avg_income': np.float64(1723646.2703978634), 'ex3_share_making_9999999': np.float64(0.1689665333350052), 'ex3_share_making_zero': np.float64(0.10557547867738336), 'ex5_avg_income': np.float64(40890.177564946454), 'ex8_avg_income_black': np.float64(41747.949905123336), 'ex8_avg_income_white': np.float64(60473.15372747098), 'ex8_racial_difference': np.float64(30.964490303804666), 'ex9_avg_income_white': 58361.48196061399, 'ex9_avg_income_black': 40430.953355310274, 'ex10_wage_gap': 41.60290979400898}\n"
     ]
    }
   ],
   "source": [
    "acs[\"race\"].value_counts()\n",
    "\n",
    "results[\"ex8_avg_income_black\"] = acs[acs[\"race\"] == \"black/african american/negro\"][\n",
    "    \"inctot\"\n",
    "].mean()\n",
    "\n",
    "results[\"ex8_avg_income_white\"] = acs[acs[\"race\"] == \"white\"][\"inctot\"].mean()\n",
    "\n",
    "results[\"ex8_racial_difference\"] = (\n",
    "    (results[\"ex8_avg_income_white\"] - results[\"ex8_avg_income_black\"])\n",
    "    / results[\"ex8_avg_income_white\"]\n",
    ") * 100\n",
    "\n",
    "print(results)"
   ]
  },
  {
   "cell_type": "markdown",
   "metadata": {},
   "source": [
    ">The average salary for employed Black Americans is about 42,000 usd. The average salary for employed White Americans is about 60,000 usd. In percentage terms, the average White American makes about 31% more than the average Black American."
   ]
  },
  {
   "cell_type": "markdown",
   "metadata": {},
   "source": [
    "### Exercise 9\n",
    "\n",
    "\n",
    "As noted above, these estimates are not actually *quite* correct because we aren't taking into account the fact that when the US Census decided who to survey, not all Americans had the same likelihood of being asked. The US American Community Survey is an example of a *weighted* survey (essentially, people from smaller subpopulations have a higher likelihood of being included to ensure enough individuals in the final survey to constitute a representative sample that can be used statistically). \n",
    "\n",
    "To calculate a weighted average that takes into account these survey weights (in other words, a more accurate estimate of US incomes), you need to use the following formula:\n",
    "\n",
    "$$weighted\\_mean\\_of\\_x = \\frac{\\sum_i x_i * weight_i}{\\sum_i weight_i}$$\n",
    "\n",
    "(As you can see, when $weight_i$ is constant for all observations, this just simplifies to our normal formula for mean values. It is only when weights vary across individuals that weights must be explicitly addressed).\n",
    "\n",
    "In this data, weights are stored in the variable `perwt`, which is the number of people for which each observation is a stand-in (the inverse of that observation's sampling probability). \n",
    "\n",
    "Using the formula, re-calculate the *weighted* average income for both populations and store them as `ex9_avg_income_white` and `ex9_avg_income_black`.\n"
   ]
  },
  {
   "cell_type": "code",
   "execution_count": 10,
   "metadata": {},
   "outputs": [
    {
     "name": "stdout",
     "output_type": "stream",
     "text": [
      "The weighted average income for whites is $58,361.48\n",
      "The weighted average income for blacks is $40,430.95\n"
     ]
    }
   ],
   "source": [
    "wht_inc = acs[acs[\"race\"] == \"white\"][\"inctot\"]\n",
    "wht_wts = acs[acs[\"race\"] == \"white\"][\"perwt\"]\n",
    "\n",
    "blck_inc = acs[acs[\"race\"] == \"black/african american/negro\"][\"inctot\"]\n",
    "blck_wts = acs[acs[\"race\"] == \"black/african american/negro\"][\"perwt\"]\n",
    "\n",
    "results[\"ex9_avg_income_white\"] = ex9_avg_income_white = sum(wht_inc * wht_wts) / sum(\n",
    "    wht_wts\n",
    ")\n",
    "results[\"ex9_avg_income_black\"] = ex9_avg_income_black = sum(blck_inc * blck_wts) / sum(\n",
    "    blck_wts\n",
    ")\n",
    "\n",
    "print(f\"The weighted average income for whites is ${ex9_avg_income_white:,.2f}\")\n",
    "print(f\"The weighted average income for blacks is ${ex9_avg_income_black:,.2f}\")"
   ]
  },
  {
   "cell_type": "markdown",
   "metadata": {},
   "source": [
    "### Exercise 10\n",
    "\n",
    "Now calculate the weighted average income gap between *non-Hispanic* White Americans and Black Americans. What percentage more do employed White non-Hispanic Americans earn than employed Black Americans? Store as `\"ex10_wage_gap\"`."
   ]
  },
  {
   "cell_type": "code",
   "execution_count": 16,
   "metadata": {},
   "outputs": [
    {
     "name": "stdout",
     "output_type": "stream",
     "text": [
      "{'ex2_avg_income': np.float64(1723646.2703978634), 'ex3_share_making_9999999': np.float64(0.1689665333350052), 'ex3_share_making_zero': np.float64(0.10557547867738336), 'ex5_avg_income': np.float64(40890.177564946454), 'ex8_avg_income_black': np.float64(41747.949905123336), 'ex8_avg_income_white': np.float64(60473.15372747098), 'ex8_racial_difference': np.float64(30.964490303804666), 'ex9_avg_income_white': 58361.48196061399, 'ex9_avg_income_black': 40430.953355310274, 'ex10_wage_gap': 34.439080083497075}\n"
     ]
    }
   ],
   "source": [
    "wht_nh_inc = acs[(acs[\"race\"] == \"white\") & (acs[\"hispan\"] == \"not hispanic\")][\"inctot\"]\n",
    "wht_nh_wts = acs[(acs[\"race\"] == \"white\") & (acs[\"hispan\"] == \"not hispanic\")][\"perwt\"]\n",
    "\n",
    "wtd_avg_inc_wht = sum(wht_nh_inc * wht_nh_wts) / sum(wht_nh_wts)\n",
    "\n",
    "results[\"ex10_wage_gap\"] = ex10_wage_gap = (\n",
    "    (wtd_avg_inc_wht - results[\"ex9_avg_income_black\"]) / wtd_avg_inc_wht\n",
    ") * 100\n",
    "\n",
    "print(results)"
   ]
  },
  {
   "cell_type": "markdown",
   "metadata": {},
   "source": [
    ">Employed White non-Hispanic Americans earn about 34% more than employed Black Americans. "
   ]
  },
  {
   "cell_type": "markdown",
   "metadata": {},
   "source": [
    "### Exercise 11\n",
    "\n",
    "Is that greater or less than the difference you found in Exercise 8? Why do you think that's the case?"
   ]
  },
  {
   "cell_type": "markdown",
   "metadata": {},
   "source": [
    "> That is greater than the difference I found in Exercise 8. I think it's because there is income discrimination against Hispanic Americans and we removed Hispanic White Americans from the subset of White respondents. The Hispanic Americans have lower averate income than White Americans."
   ]
  },
  {
   "cell_type": "code",
   "execution_count": 12,
   "metadata": {},
   "outputs": [],
   "source": [
    "assert set(results.keys()) == {\n",
    "    \"ex2_avg_income\",\n",
    "    \"ex3_share_making_9999999\",\n",
    "    \"ex3_share_making_zero\",\n",
    "    \"ex5_avg_income\",\n",
    "    \"ex8_avg_income_black\",\n",
    "    \"ex8_avg_income_white\",\n",
    "    \"ex8_racial_difference\",\n",
    "    \"ex9_avg_income_black\",\n",
    "    \"ex9_avg_income_white\",\n",
    "    \"ex10_wage_gap\",\n",
    "}"
   ]
  }
 ],
 "metadata": {
  "kernelspec": {
   "display_name": "Python 3.10.6 ('base')",
   "language": "python",
   "name": "python3"
  },
  "language_info": {
   "codemirror_mode": {
    "name": "ipython",
    "version": 3
   },
   "file_extension": ".py",
   "mimetype": "text/x-python",
   "name": "python",
   "nbconvert_exporter": "python",
   "pygments_lexer": "ipython3",
   "version": "3.12.2"
  },
  "vscode": {
   "interpreter": {
    "hash": "718fed28bf9f8c7851519acf2fb923cd655120b36de3b67253eeb0428bd33d2d"
   }
  }
 },
 "nbformat": 4,
 "nbformat_minor": 4
}
